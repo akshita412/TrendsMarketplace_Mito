{
 "cells": [
  {
   "cell_type": "code",
   "execution_count": 3,
   "id": "1750d08f",
   "metadata": {},
   "outputs": [],
   "source": [
    "import mitosheet\n"
   ]
  },
  {
   "cell_type": "code",
   "execution_count": 4,
   "id": "0edf2bc9-ef10-4f46-a8e9-c36a0d571718",
   "metadata": {},
   "outputs": [
    {
     "data": {
      "application/vnd.jupyter.widget-view+json": {
       "model_id": "dde343f6d52b4d448f8e5dcb9bd71510",
       "version_major": 2,
       "version_minor": 0
      },
      "text/plain": [
       "MitoWidget(analysis_data_json='{\"analysisName\": \"UUID-51606f3e-c77a-478d-8bb8-dab909d4631e\", \"code\": {\"imports…"
      ]
     },
     "metadata": {},
     "output_type": "display_data"
    }
   ],
   "source": [
    "mitosheet.sheet()"
   ]
  },
  {
   "cell_type": "code",
   "execution_count": null,
   "id": "5a328c5e-7bac-4d5c-990b-a828920e443c",
   "metadata": {},
   "outputs": [],
   "source": [
    "# MITO CODE START (DO NOT EDIT)\n",
    "\n",
    "from mitosheet import * # Import necessary functions from Mito\n",
    "register_analysis('UUID-51606f3e-c77a-478d-8bb8-dab909d4631e') # Let Mito know which analysis is being run\n",
    "\n",
    "# Imported corp_tax.csv\n",
    "import pandas as pd\n",
    "corp_tax_csv = pd.read_csv(r'corp_tax.csv')\n",
    "\n",
    "# Sorted TIME in corp_tax_csv in ascending order\n",
    "corp_tax_csv = corp_tax_csv.sort_values(by='TIME', ascending=True, na_position='first')\n",
    "\n",
    "  \n",
    "# MITO CODE END (DO NOT EDIT)"
   ]
  },
  {
   "cell_type": "code",
   "execution_count": null,
   "id": "150a311c-d958-4469-a9b6-b1fa41119faa",
   "metadata": {},
   "outputs": [],
   "source": []
  }
 ],
 "metadata": {
  "kernelspec": {
   "display_name": "Python 3 (ipykernel)",
   "language": "python",
   "name": "python3"
  },
  "language_info": {
   "codemirror_mode": {
    "name": "ipython",
    "version": 3
   },
   "file_extension": ".py",
   "mimetype": "text/x-python",
   "name": "python",
   "nbconvert_exporter": "python",
   "pygments_lexer": "ipython3",
   "version": "3.7.12"
  }
 },
 "nbformat": 4,
 "nbformat_minor": 5
}
