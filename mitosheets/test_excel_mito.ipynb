{
 "cells": [
  {
   "cell_type": "code",
   "execution_count": 2,
   "id": "6864d480-57dd-436d-b739-821bfb438515",
   "metadata": {},
   "outputs": [],
   "source": [
    "import mysql.connector as sql\n",
    "import pandas as pd\n",
    "import mitosheet"
   ]
  },
  {
   "cell_type": "code",
   "execution_count": 1,
   "id": "21446f94-3e3f-48bc-b09c-a3665dc16bb5",
   "metadata": {},
   "outputs": [
    {
     "data": {
      "text/plain": [
       "'C:\\\\Users\\\\akshi\\\\Documents\\\\Semester1\\\\Python\\\\TrendsMarketplace'"
      ]
     },
     "execution_count": 1,
     "metadata": {},
     "output_type": "execute_result"
    }
   ],
   "source": [
    "pwd"
   ]
  },
  {
   "cell_type": "code",
   "execution_count": 3,
   "id": "3607e2c0-6475-471b-a017-cb391002197b",
   "metadata": {},
   "outputs": [
    {
     "data": {
      "text/html": [
       "<div><div id=990ff920-2d47-4999-81be-8ee2813b83ae style=\"display:none; background-color:#9D6CFF; color:white; width:200px; height:30px; padding-left:5px; border-radius:4px; flex-direction:row; justify-content:space-around; align-items:center;\" onmouseover=\"this.style.backgroundColor='#BA9BF8'\" onmouseout=\"this.style.backgroundColor='#9D6CFF'\" onclick=\"window.commands?.execute('create-mitosheet-from-dataframe-output');\">See Full Dataframe in Mito</div> <script> if (window.commands.hasCommand('create-mitosheet-from-dataframe-output')) document.getElementById('990ff920-2d47-4999-81be-8ee2813b83ae').style.display = 'flex' </script> <table border=\"1\" class=\"dataframe\">\n",
       "  <thead>\n",
       "    <tr style=\"text-align: right;\">\n",
       "      <th></th>\n",
       "      <th>Student_ID</th>\n",
       "      <th>Student_name</th>\n",
       "      <th>City</th>\n",
       "      <th>DOB</th>\n",
       "      <th>DOA</th>\n",
       "      <th>Unnamed: 5</th>\n",
       "      <th>Unnamed: 6</th>\n",
       "      <th>Unnamed: 7</th>\n",
       "      <th>Unnamed: 8</th>\n",
       "      <th>Unnamed: 9</th>\n",
       "      <th>Unnamed: 10</th>\n",
       "    </tr>\n",
       "  </thead>\n",
       "  <tbody>\n",
       "    <tr>\n",
       "      <th>0</th>\n",
       "      <td>1</td>\n",
       "      <td>Raj Vardhan</td>\n",
       "      <td>Ranchi</td>\n",
       "      <td>12/1/1997</td>\n",
       "      <td>11/30/1997</td>\n",
       "      <td>Ranch0</td>\n",
       "      <td>0</td>\n",
       "      <td>0</td>\n",
       "      <td>False</td>\n",
       "      <td>1</td>\n",
       "      <td>#NAME?</td>\n",
       "    </tr>\n",
       "    <tr>\n",
       "      <th>1</th>\n",
       "      <td>2</td>\n",
       "      <td>Naval Vaidya</td>\n",
       "      <td>Indore</td>\n",
       "      <td>NaN</td>\n",
       "      <td>###############################################################################################################################################################################################################################################################</td>\n",
       "      <td>Indore</td>\n",
       "      <td>0</td>\n",
       "      <td>0</td>\n",
       "      <td>False</td>\n",
       "      <td>0</td>\n",
       "      <td>NaN</td>\n",
       "    </tr>\n",
       "    <tr>\n",
       "      <th>2</th>\n",
       "      <td>3</td>\n",
       "      <td>Phuong Tran</td>\n",
       "      <td>Hanoi</td>\n",
       "      <td>12/3/1999</td>\n",
       "      <td>12/2/1999</td>\n",
       "      <td>Hano0</td>\n",
       "      <td>1</td>\n",
       "      <td>1</td>\n",
       "      <td>True</td>\n",
       "      <td>1</td>\n",
       "      <td>NaN</td>\n",
       "    </tr>\n",
       "    <tr>\n",
       "      <th>3</th>\n",
       "      <td>4</td>\n",
       "      <td>Akshita Srivastava</td>\n",
       "      <td>Ranchi</td>\n",
       "      <td>12/4/1981</td>\n",
       "      <td>12/3/1981</td>\n",
       "      <td>Ranch0</td>\n",
       "      <td>0</td>\n",
       "      <td>1</td>\n",
       "      <td>False</td>\n",
       "      <td>0</td>\n",
       "      <td>NaN</td>\n",
       "    </tr>\n",
       "    <tr>\n",
       "      <th>4</th>\n",
       "      <td>5</td>\n",
       "      <td>Coco</td>\n",
       "      <td>Ranchi</td>\n",
       "      <td>12/20/2019</td>\n",
       "      <td>12/19/2019</td>\n",
       "      <td>Ranch0</td>\n",
       "      <td>0</td>\n",
       "      <td>1</td>\n",
       "      <td>NaN</td>\n",
       "      <td>1</td>\n",
       "      <td>NaN</td>\n",
       "    </tr>\n",
       "  </tbody>\n",
       "</table></div>"
      ],
      "text/plain": [
       "   Student_ID        Student_name    City         DOB  \\\n",
       "0           1         Raj Vardhan  Ranchi   12/1/1997   \n",
       "1           2        Naval Vaidya  Indore         NaN   \n",
       "2           3         Phuong Tran   Hanoi   12/3/1999   \n",
       "3           4  Akshita Srivastava  Ranchi   12/4/1981   \n",
       "4           5                Coco  Ranchi  12/20/2019   \n",
       "\n",
       "                                                 DOA Unnamed: 5  Unnamed: 6  \\\n",
       "0                                         11/30/1997     Ranch0           0   \n",
       "1  ##############################################...     Indore           0   \n",
       "2                                          12/2/1999      Hano0           1   \n",
       "3                                          12/3/1981     Ranch0           0   \n",
       "4                                         12/19/2019     Ranch0           0   \n",
       "\n",
       "   Unnamed: 7 Unnamed: 8  Unnamed: 9 Unnamed: 10  \n",
       "0           0      False           1      #NAME?  \n",
       "1           0      False           0         NaN  \n",
       "2           1       True           1         NaN  \n",
       "3           1      False           0         NaN  \n",
       "4           1        NaN           1         NaN  "
      ]
     },
     "execution_count": 3,
     "metadata": {},
     "output_type": "execute_result"
    }
   ],
   "source": [
    "f=pd.read_csv('C:\\\\Users\\\\akshi\\\\Documents\\\\Semester1\\\\Python\\\\TrendsMarketplace\\\\test.csv')\n",
    "f.head()"
   ]
  },
  {
   "cell_type": "code",
   "execution_count": 4,
   "id": "7fe76cc7-e4bc-4e53-b35f-2715365e9f85",
   "metadata": {},
   "outputs": [
    {
     "data": {
      "application/vnd.jupyter.widget-view+json": {
       "model_id": "3aa009be5d8d4c5aa1336ed3b1ac4697",
       "version_major": 2,
       "version_minor": 0
      },
      "text/plain": [
       "MitoWidget(analysis_data_json='{\"analysisName\": \"UUID-00112827-6770-4e38-99d0-a478f768b117\", \"code\": {\"imports…"
      ]
     },
     "metadata": {},
     "output_type": "display_data"
    }
   ],
   "source": [
    "import mitosheet\n",
    "mitosheet.sheet(f, view_df=True)"
   ]
  },
  {
   "cell_type": "code",
   "execution_count": null,
   "id": "e2eecc32-4fc9-4045-ba3c-6f3b8fe15126",
   "metadata": {},
   "outputs": [],
   "source": [
    "from mitosheet import *; register_analysis('UUID-00112827-6770-4e38-99d0-a478f768b117')\n",
    "\n",
    "# Pivoted f into df2\n",
    "unused_columns = f.columns.difference(set(['City']).union(set([])).union(set({'City'})))\n",
    "tmp_df = f.drop(unused_columns, axis=1)\n",
    "pivot_table = tmp_df.pivot_table(\n",
    "    index=['City'],\n",
    "    values=['City'],\n",
    "    aggfunc={'City': ['count']}\n",
    ")\n",
    "pivot_table.columns = [flatten_column_header(col) for col in pivot_table.columns.values]\n",
    "df2 = pivot_table.reset_index()\n"
   ]
  },
  {
   "cell_type": "code",
   "execution_count": null,
   "id": "6eab8bc8-7b3d-452c-b1cf-df734bbb1cb9",
   "metadata": {},
   "outputs": [],
   "source": [
    "import mitosheet\n",
    "mitosheet.sheet(f, view_df=True)"
   ]
  },
  {
   "cell_type": "code",
   "execution_count": null,
   "id": "17b4ef53-637e-42ba-8bae-91e09c2bfcbf",
   "metadata": {},
   "outputs": [],
   "source": [
    "from mitosheet import *; register_analysis('UUID-f756fddc-9a3d-4d16-85ea-650157d20123')\n",
    "\n",
    "# Pivoted f into df2\n",
    "df2 = pd.DataFrame(data={})\n",
    "\n",
    "# Added column new-column-j6sn to f\n",
    "f.insert(4, 'new-column-j6sn', 0)\n",
    "\n",
    "# Set new-column-j6sn in f to =if(DOB=='',\"0\",DOB)\n",
    "f['new-column-j6sn'] = IF(f['DOB']=='',\"0\",f['DOB'])\n",
    "\n",
    "# Pivoted f into df2\n",
    "df2 = pd.DataFrame(data={})\n",
    "\n",
    "# Set column DOB at index 1 in f to None\n",
    "f.at[1, 'DOB'] = None\n",
    "f['new-column-j6sn'] = IF(f['DOB']=='',\"0\",f['DOB'])\n",
    "\n",
    "# Set new-column-j6sn in f to IF(DOB==\"\",\"1\",\"2\")\n",
    "f['new-column-j6sn'] = IF(f['DOB']==\"\",\"1\",\"2\")\n",
    "\n",
    "# Changed DOB from object to datetime\n",
    "import pandas as pd\n",
    "f['DOB'] = pd.to_datetime(f['DOB'], infer_datetime_format=True, errors='coerce')\n",
    "f['new-column-j6sn'] = IF(f['DOB']==\"\",\"1\",\"2\")\n",
    "\n",
    "# Set new-column-j6sn in f to IF(DOB==\"NaN\",\"1\",\"2\")\n",
    "f['new-column-j6sn'] = IF(f['DOB']==\"NaN\",\"1\",\"2\")\n",
    "\n",
    "# Added column new-column-c3gc to f\n",
    "f.insert(4, 'new-column-c3gc', 0)\n",
    "\n",
    "# Set new-column-c3gc in f to =DAY(DOB)\n",
    "f['new-column-c3gc'] = DAY(f['DOB'])\n",
    "\n",
    "# Added column new-column-c1aa to f\n",
    "f.insert(5, 'new-column-c1aa', 0)\n",
    "\n",
    "# Set new-column-c1aa in f to =MONTH(DOB)\n",
    "f['new-column-c1aa'] = MONTH(f['DOB'])\n",
    "\n",
    "# Set new-column-j6sn in f to =YEAR(DOB)\n",
    "f['new-column-j6sn'] = YEAR(f['DOB'])\n"
   ]
  },
  {
   "cell_type": "code",
   "execution_count": null,
   "id": "8c1e9280-6dd3-4313-a21c-f7770d38e93f",
   "metadata": {},
   "outputs": [],
   "source": []
  },
  {
   "cell_type": "code",
   "execution_count": null,
   "id": "e6b42b76-cab6-4ed5-a1a8-aa8bff034081",
   "metadata": {},
   "outputs": [],
   "source": []
  }
 ],
 "metadata": {
  "kernelspec": {
   "display_name": "Python 3",
   "language": "python",
   "name": "python3"
  },
  "language_info": {
   "codemirror_mode": {
    "name": "ipython",
    "version": 3
   },
   "file_extension": ".py",
   "mimetype": "text/x-python",
   "name": "python",
   "nbconvert_exporter": "python",
   "pygments_lexer": "ipython3",
   "version": "3.8.8"
  }
 },
 "nbformat": 4,
 "nbformat_minor": 5
}
