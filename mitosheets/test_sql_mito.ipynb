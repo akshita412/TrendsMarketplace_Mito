{
 "cells": [
  {
   "cell_type": "code",
   "execution_count": 2,
   "id": "b700d131",
   "metadata": {},
   "outputs": [],
   "source": [
    "import mysql.connector as sql\n",
    "import pandas as pd\n",
    "import mitosheet\n",
    "\n",
    "c=sql.connect(host='localhost', database='employees',user='root',password='qweQWE123!@#')"
   ]
  },
  {
   "cell_type": "code",
   "execution_count": 4,
   "id": "827b8592",
   "metadata": {},
   "outputs": [],
   "source": [
    "df=pd.read_sql('SELECT * FROM salaries',c)"
   ]
  },
  {
   "cell_type": "code",
   "execution_count": 6,
   "id": "c8fd02db",
   "metadata": {},
   "outputs": [
    {
     "data": {
      "application/vnd.jupyter.widget-view+json": {
       "model_id": "c3cdd727fe674310959f54b27676a211",
       "version_major": 2,
       "version_minor": 0
      },
      "text/plain": [
       "MitoWidget(analysis_data_json='{\"analysisName\": \"UUID-c6744f93-080a-400c-9c99-146cb0518f2a\", \"code\": {\"imports…"
      ]
     },
     "metadata": {},
     "output_type": "display_data"
    }
   ],
   "source": [
    "mitosheet.sheet(df,view_df=True)"
   ]
  },
  {
   "cell_type": "code",
   "execution_count": null,
   "id": "0bccb987",
   "metadata": {},
   "outputs": [],
   "source": []
  },
  {
   "cell_type": "code",
   "execution_count": null,
   "id": "549fdb64",
   "metadata": {},
   "outputs": [],
   "source": []
  },
  {
   "cell_type": "code",
   "execution_count": null,
   "id": "ffa249f7",
   "metadata": {},
   "outputs": [],
   "source": []
  },
  {
   "cell_type": "code",
   "execution_count": null,
   "id": "5d2e66c8",
   "metadata": {},
   "outputs": [],
   "source": []
  },
  {
   "cell_type": "code",
   "execution_count": null,
   "id": "1230850e",
   "metadata": {},
   "outputs": [],
   "source": []
  }
 ],
 "metadata": {
  "kernelspec": {
   "display_name": "Python 3",
   "language": "python",
   "name": "python3"
  },
  "language_info": {
   "codemirror_mode": {
    "name": "ipython",
    "version": 3
   },
   "file_extension": ".py",
   "mimetype": "text/x-python",
   "name": "python",
   "nbconvert_exporter": "python",
   "pygments_lexer": "ipython3",
   "version": "3.8.8"
  }
 },
 "nbformat": 4,
 "nbformat_minor": 5
}
