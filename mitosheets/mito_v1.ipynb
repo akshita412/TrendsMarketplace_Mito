{
 "cells": [
  {
   "cell_type": "code",
   "execution_count": 1,
   "id": "e034e922-f73f-4b0c-a22a-bf7d07d9b014",
   "metadata": {},
   "outputs": [],
   "source": [
    "import mysql.connector as sql\n",
    "import pandas as pd\n",
    "import mitosheet\n",
    "\n",
    "c=sql.connect(host='localhost', database='invoices',user='root',password='qweQWE123!@#')"
   ]
  },
  {
   "cell_type": "code",
   "execution_count": 2,
   "id": "f4eed405-c4f8-4e81-b5aa-cbf6468d9225",
   "metadata": {},
   "outputs": [],
   "source": [
    "vendors=pd.read_sql('SELECT * FROM vendors',c)\n",
    "invoice_line_items=pd.read_sql('SELECT * FROM invoice_line_items',c)"
   ]
  },
  {
   "cell_type": "code",
   "execution_count": 3,
   "id": "49ce4c83-6bc2-46d1-ba39-da4a6f594409",
   "metadata": {},
   "outputs": [
    {
     "data": {
      "text/html": [
       "<div><div id=aa609024-afb6-4641-a2c3-a1b53730f361 style=\"display:none; background-color:#9D6CFF; color:white; width:200px; height:30px; padding-left:5px; border-radius:4px; flex-direction:row; justify-content:space-around; align-items:center;\" onmouseover=\"this.style.backgroundColor='#BA9BF8'\" onmouseout=\"this.style.backgroundColor='#9D6CFF'\" onclick=\"window.commands?.execute('create-mitosheet-from-dataframe-output');\">See Full Dataframe in Mito</div> <script> if (window.commands.hasCommand('create-mitosheet-from-dataframe-output')) document.getElementById('aa609024-afb6-4641-a2c3-a1b53730f361').style.display = 'flex' </script> <table border=\"1\" class=\"dataframe\">\n",
       "  <thead>\n",
       "    <tr style=\"text-align: right;\">\n",
       "      <th></th>\n",
       "      <th>invoice_id</th>\n",
       "      <th>invoice_sequence</th>\n",
       "      <th>account_number</th>\n",
       "      <th>line_item_amt</th>\n",
       "      <th>line_item_description</th>\n",
       "    </tr>\n",
       "  </thead>\n",
       "  <tbody>\n",
       "    <tr>\n",
       "      <th>0</th>\n",
       "      <td>1.0</td>\n",
       "      <td>1.0</td>\n",
       "      <td>572.0</td>\n",
       "      <td>116.54</td>\n",
       "      <td>MVS Online Library</td>\n",
       "    </tr>\n",
       "    <tr>\n",
       "      <th>1</th>\n",
       "      <td>2.0</td>\n",
       "      <td>1.0</td>\n",
       "      <td>572.0</td>\n",
       "      <td>1083.58</td>\n",
       "      <td>MSDN</td>\n",
       "    </tr>\n",
       "    <tr>\n",
       "      <th>2</th>\n",
       "      <td>3.0</td>\n",
       "      <td>1.0</td>\n",
       "      <td>120.0</td>\n",
       "      <td>20551.18</td>\n",
       "      <td>CICS Part 2</td>\n",
       "    </tr>\n",
       "    <tr>\n",
       "      <th>3</th>\n",
       "      <td>4.0</td>\n",
       "      <td>1.0</td>\n",
       "      <td>120.0</td>\n",
       "      <td>26881.40</td>\n",
       "      <td>MVS JCL</td>\n",
       "    </tr>\n",
       "    <tr>\n",
       "      <th>4</th>\n",
       "      <td>5.0</td>\n",
       "      <td>1.0</td>\n",
       "      <td>527.0</td>\n",
       "      <td>936.93</td>\n",
       "      <td>Quarterly Maintenance</td>\n",
       "    </tr>\n",
       "  </tbody>\n",
       "</table></div>"
      ],
      "text/plain": [
       "   invoice_id  invoice_sequence  account_number  line_item_amt  \\\n",
       "0         1.0               1.0           572.0         116.54   \n",
       "1         2.0               1.0           572.0        1083.58   \n",
       "2         3.0               1.0           120.0       20551.18   \n",
       "3         4.0               1.0           120.0       26881.40   \n",
       "4         5.0               1.0           527.0         936.93   \n",
       "\n",
       "   line_item_description  \n",
       "0     MVS Online Library  \n",
       "1                   MSDN  \n",
       "2            CICS Part 2  \n",
       "3                MVS JCL  \n",
       "4  Quarterly Maintenance  "
      ]
     },
     "execution_count": 3,
     "metadata": {},
     "output_type": "execute_result"
    }
   ],
   "source": [
    "invoice_line_items.head()"
   ]
  },
  {
   "cell_type": "code",
   "execution_count": 4,
   "id": "934af077-71c5-42f2-a2b2-a9e0df82ea1f",
   "metadata": {},
   "outputs": [
    {
     "data": {
      "application/vnd.jupyter.widget-view+json": {
       "model_id": "8bd728b7b6c54124a8817940423e7b1c",
       "version_major": 2,
       "version_minor": 0
      },
      "text/plain": [
       "MitoWidget(analysis_data_json='{\"analysisName\": \"UUID-e5fc6af0-787e-4754-87c4-cd15b5e55d2c\", \"code\": {\"imports…"
      ]
     },
     "metadata": {},
     "output_type": "display_data"
    }
   ],
   "source": [
    "mitosheet.sheet(vendors, invoice_line_items,view_df=True)"
   ]
  },
  {
   "cell_type": "code",
   "execution_count": 5,
   "id": "b9f87428-499e-4b9f-b468-0f18a7106322",
   "metadata": {},
   "outputs": [],
   "source": [
    "c1=sql.connect(host='localhost', database='sakila',user='root',password='qweQWE123!@#')"
   ]
  },
  {
   "cell_type": "code",
   "execution_count": 6,
   "id": "093199fb-814e-406d-ab6d-444ea7ad3c1d",
   "metadata": {},
   "outputs": [],
   "source": [
    "film=pd.read_sql('SELECT * FROM film',c1)\n",
    "rental=pd.read_sql('SELECT * FROM rental',c1)\n",
    "inventory=pd.read_sql('SELECT * FROM inventory',c1)"
   ]
  },
  {
   "cell_type": "code",
   "execution_count": 7,
   "id": "83af3cef-0c20-4016-8c91-a780dbdb6d05",
   "metadata": {},
   "outputs": [
    {
     "data": {
      "application/vnd.jupyter.widget-view+json": {
       "model_id": "63878ade2d634298a86ebd52488ca298",
       "version_major": 2,
       "version_minor": 0
      },
      "text/plain": [
       "MitoWidget(analysis_data_json='{\"analysisName\": \"UUID-c6f07fe2-98c7-452c-a0d6-95ed81d9fcfa\", \"code\": {\"imports…"
      ]
     },
     "metadata": {},
     "output_type": "display_data"
    }
   ],
   "source": [
    "mitosheet.sheet(inventory, rental,view_df=True)"
   ]
  },
  {
   "cell_type": "code",
   "execution_count": 8,
   "id": "10e41bb5-f20b-4c99-84ee-b655e315cb7c",
   "metadata": {},
   "outputs": [],
   "source": [
    "from mitosheet import *; register_analysis('UUID-118853e4-8162-4386-9e17-0e9fb7757fdc')\n",
    "\n",
    "# Pivoted inventory into df3\n",
    "df3 = pd.DataFrame(data={})\n",
    "\n",
    "# Deleted dataframe df3\n",
    "del df3\n",
    "\n",
    "# Merged inventory and rental\n",
    "temp_df = rental.drop_duplicates(subset='inventory_id') # Remove duplicates so lookup merge only returns first match\n",
    "inventory_tmp = inventory.drop(['last_update', 'store_id'], axis=1)\n",
    "rental_tmp = temp_df.drop(['rental_date', 'last_update', 'return_date', 'rental_id', 'customer_id', 'staff_id'], axis=1)\n",
    "df3 = inventory_tmp.merge(rental_tmp, left_on=['inventory_id'], right_on=['inventory_id'], how='left', suffixes=['_inventory', '_rental'])\n",
    "\n",
    "# Pivoted df3 into df4\n",
    "unused_columns = df3.columns.difference(set(['film_id']).union(set([])).union(set({'inventory_id'})))\n",
    "tmp_df = df3.drop(unused_columns, axis=1)\n",
    "pivot_table = tmp_df.pivot_table(\n",
    "    index=['film_id'],\n",
    "    values=['inventory_id'],\n",
    "    aggfunc={'inventory_id': ['count']}\n",
    ")\n",
    "pivot_table.columns = [flatten_column_header(col) for col in pivot_table.columns.values]\n",
    "df4 = pivot_table.reset_index()\n",
    "\n",
    "# Added column new-column-zwa4 to inventory\n",
    "inventory.insert(4, 'new-column-zwa4', 0)\n",
    "\n",
    "# Set new-column-zwa4 in inventory to =IF(store_id==1, 'store1','store2')\n",
    "inventory['new-column-zwa4'] = IF(inventory['store_id']==1, 'store1','store2')\n",
    "\n",
    "# Added column new-column-5nwk to inventory\n",
    "inventory.insert(5, 'new-column-5nwk', 0)\n",
    "\n",
    "# Set new-column-5nwk in inventory to =UPPER(new-column-zwa4)\n",
    "inventory['new-column-5nwk'] = UPPER(inventory['new-column-zwa4'])\n",
    "\n",
    "# Added column new-column-1a69 to inventory\n",
    "inventory.insert(6, 'new-column-1a69', 0)\n",
    "\n",
    "# Set new-column-1a69 in inventory to =FIND(new-column-5nwk,'1')\n",
    "inventory['new-column-1a69'] = FIND(inventory['new-column-5nwk'],'1')\n",
    "\n",
    "# Added column new-column-w31t to inventory\n",
    "inventory.insert(7, 'new-column-w31t', 0)\n",
    "\n",
    "# Set new-column-w31t in inventory to =SUBSTITUTE(new-column-zwa4,'1','lol')\n",
    "inventory['new-column-w31t'] = SUBSTITUTE(inventory['new-column-zwa4'],'1','lol')\n"
   ]
  },
  {
   "cell_type": "code",
   "execution_count": null,
   "id": "6f2bdf6f-b8a4-40c3-bbb8-0be7c122cdc4",
   "metadata": {},
   "outputs": [],
   "source": []
  },
  {
   "cell_type": "code",
   "execution_count": null,
   "id": "986a831e-b684-440f-af35-771346a459ce",
   "metadata": {},
   "outputs": [],
   "source": []
  },
  {
   "cell_type": "code",
   "execution_count": null,
   "id": "f2b34d06-981b-4de0-af1e-a3bc9fb381f7",
   "metadata": {},
   "outputs": [],
   "source": []
  },
  {
   "cell_type": "code",
   "execution_count": null,
   "id": "1fddddef-9455-4f44-b46c-49367697c5c8",
   "metadata": {},
   "outputs": [],
   "source": []
  },
  {
   "cell_type": "code",
   "execution_count": null,
   "id": "85ba7e25-01bb-469e-8442-b78440c4efcd",
   "metadata": {},
   "outputs": [],
   "source": []
  },
  {
   "cell_type": "code",
   "execution_count": null,
   "id": "b00fe64a-90d4-4247-8ca2-9acff03094f4",
   "metadata": {},
   "outputs": [],
   "source": []
  },
  {
   "cell_type": "code",
   "execution_count": null,
   "id": "82c56b83-144b-48d1-b961-ad4b9a051238",
   "metadata": {},
   "outputs": [],
   "source": []
  },
  {
   "cell_type": "code",
   "execution_count": null,
   "id": "576f29df-899c-4034-9f9c-c001d05f5c9b",
   "metadata": {},
   "outputs": [],
   "source": []
  },
  {
   "cell_type": "code",
   "execution_count": null,
   "id": "3afd999e-1107-449f-b857-c1c48b699061",
   "metadata": {},
   "outputs": [],
   "source": []
  },
  {
   "cell_type": "code",
   "execution_count": null,
   "id": "2203bc12-32da-445c-8efb-d28b343b980a",
   "metadata": {},
   "outputs": [],
   "source": []
  },
  {
   "cell_type": "code",
   "execution_count": null,
   "id": "4c94f65e-ec45-4c5d-ad0f-4f36cdbef281",
   "metadata": {},
   "outputs": [],
   "source": []
  },
  {
   "cell_type": "code",
   "execution_count": null,
   "id": "0dd006c1-17e1-4255-b472-147b4dd3d0f5",
   "metadata": {},
   "outputs": [],
   "source": []
  },
  {
   "cell_type": "code",
   "execution_count": null,
   "id": "d271da6e-a114-41ef-95c8-f15f4b33f7e7",
   "metadata": {},
   "outputs": [],
   "source": []
  },
  {
   "cell_type": "code",
   "execution_count": null,
   "id": "1984b40f-c8d5-4b0a-a43a-1f31d4ca2dd8",
   "metadata": {},
   "outputs": [],
   "source": []
  },
  {
   "cell_type": "code",
   "execution_count": null,
   "id": "70352850-a517-4e5d-8697-7f7d3f7dfd20",
   "metadata": {},
   "outputs": [],
   "source": []
  },
  {
   "cell_type": "code",
   "execution_count": null,
   "id": "04b056a1-c51f-4793-89c7-a00d1b65e301",
   "metadata": {},
   "outputs": [],
   "source": []
  },
  {
   "cell_type": "code",
   "execution_count": null,
   "id": "f387daea-d86e-4336-aaa2-c00bbf0d3047",
   "metadata": {},
   "outputs": [],
   "source": []
  },
  {
   "cell_type": "code",
   "execution_count": null,
   "id": "150677a5-3bfa-4c66-a4f6-dbc68ca6bc32",
   "metadata": {},
   "outputs": [],
   "source": []
  },
  {
   "cell_type": "code",
   "execution_count": null,
   "id": "6eb7895d-026f-4970-8109-2c4d71f987ec",
   "metadata": {},
   "outputs": [],
   "source": []
  },
  {
   "cell_type": "code",
   "execution_count": null,
   "id": "c51e4ab1-aa52-4248-8159-61402bbec40f",
   "metadata": {},
   "outputs": [],
   "source": []
  }
 ],
 "metadata": {
  "kernelspec": {
   "display_name": "Python 3",
   "language": "python",
   "name": "python3"
  },
  "language_info": {
   "codemirror_mode": {
    "name": "ipython",
    "version": 3
   },
   "file_extension": ".py",
   "mimetype": "text/x-python",
   "name": "python",
   "nbconvert_exporter": "python",
   "pygments_lexer": "ipython3",
   "version": "3.8.8"
  }
 },
 "nbformat": 4,
 "nbformat_minor": 5
}
